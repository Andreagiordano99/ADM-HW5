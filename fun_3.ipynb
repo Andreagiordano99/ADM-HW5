{
 "cells": [
  {
   "cell_type": "code",
   "execution_count": null,
   "id": "9b2ecc60",
   "metadata": {},
   "outputs": [],
   "source": [
    "def fun3(G, inter, list_node, start, end):\n",
    "    new_G=interval_time(G,inter)    #inter=[\"2014-09-01\",\"2014-09-02\"]\n",
    "    path=[]\n",
    "    if start not in new_G.nodes:\n",
    "        return \"Oops!  That was no valid numbers.  Try again...\"\n",
    "    if end not in new_G.nodes:\n",
    "        return \"Oops!  That was no valid numbers.  Try again...\"\n",
    "    for j in range(len(list_node)):\n",
    "        if(list_node[j] not in new_G.nodes):\n",
    "            return \"Oops!  That was no valid numbers.  Try again...\"\n",
    "        \n",
    "        \n",
    "    for i in range(len(list_node)+2):\n",
    "        if i==0:\n",
    "            try:\n",
    "                path.append(shortest_path(new_G,start,list_node[i])[0])\n",
    "            except ValueError:\n",
    "                return \"Oops!  That was no valid numbers.  Try again...\"\n",
    "        elif i==(len(list_node)-1):\n",
    "            try:\n",
    "                path.append(shortest_path(new_G,list_node[i],end)[0])\n",
    "                return path\n",
    "            except:\n",
    "                return \"Oops!  That was no valid numbers.  Try again...\"\n",
    "        else:\n",
    "            try:\n",
    "                path.append(shortest_path(new_G,list_node[i],list_node[i+1]))\n",
    "            except:\n",
    "                return \"Oops!  That was no valid numbers.  Try again...\"  "
   ]
  }
 ],
 "metadata": {
  "kernelspec": {
   "display_name": "Python 3",
   "language": "python",
   "name": "python3"
  },
  "language_info": {
   "codemirror_mode": {
    "name": "ipython",
    "version": 3
   },
   "file_extension": ".py",
   "mimetype": "text/x-python",
   "name": "python",
   "nbconvert_exporter": "python",
   "pygments_lexer": "ipython3",
   "version": "3.8.8"
  }
 },
 "nbformat": 4,
 "nbformat_minor": 5
}
