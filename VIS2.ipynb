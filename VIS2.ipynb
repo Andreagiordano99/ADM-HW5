{
 "cells": [
  {
   "cell_type": "markdown",
   "id": "c4ced7b6",
   "metadata": {},
   "source": [
    "## VIS2"
   ]
  },
  {
   "cell_type": "code",
   "execution_count": 2,
   "id": "1921d478",
   "metadata": {},
   "outputs": [],
   "source": [
    "import matplotlib.pyplot as plt\n",
    "import networkx as nx\n",
    "import pickle\n",
    "from functions import *"
   ]
  },
  {
   "cell_type": "code",
   "execution_count": null,
   "outputs": [],
   "source": [
    "with open('data/graph_total.pkl', 'rb') as f:\n",
    "    G_total = pickle.load(f)"
   ],
   "metadata": {
    "collapsed": false,
    "pycharm": {
     "name": "#%%\n"
    }
   }
  },
  {
   "cell_type": "code",
   "execution_count": 1,
   "id": "1c565dfd",
   "metadata": {},
   "outputs": [],
   "source": [
    "def vis2(node,G):\n",
    "    \n",
    "    lista=[node]\n",
    "    \n",
    "    for i in range(len(list(G.neighbors(node)))):\n",
    "        lista.append(list(G.neighbors(node))[i])\n",
    "        \n",
    "    g = nx.DiGraph()\n",
    "    for i in range(len(lista)):\n",
    "        g.add_node(lista[i])\n",
    "        g.add_edge(node,lista[i])\n",
    "        if(i>75):\n",
    "            break\n",
    "            \n",
    "    if(len(lista)>75):\n",
    "        print(\"The node\",node ,\"has\",len(lista)-1,\"adjacent, we print only the first 75\")\n",
    "    else:\n",
    "        print(\"The node\",node ,\"has\",len(lista)-1,\"adjacent\")\n",
    "    \n",
    "\n",
    "    plt.figure()\n",
    "    nx.draw(g,with_labels = True, node_color=\"blue\")\n",
    "    plt.show()\n"
   ]
  },
  {
   "cell_type": "code",
   "execution_count": null,
   "outputs": [],
   "source": [
    "time_inter = [\"2015-08-01 \",\"2015-08-02\"]\n",
    "new_g = interval_time(G_total, time_inter)"
   ],
   "metadata": {
    "collapsed": false,
    "pycharm": {
     "name": "#%%\n"
    }
   }
  },
  {
   "cell_type": "code",
   "execution_count": null,
   "id": "c123547c",
   "metadata": {},
   "outputs": [],
   "source": [
    "vis2(149341,new_g)"
   ]
  },
  {
   "cell_type": "code",
   "execution_count": null,
   "id": "be09e538",
   "metadata": {},
   "outputs": [],
   "source": [
    "vis2(149341,G_total)"
   ]
  }
 ],
 "metadata": {
  "kernelspec": {
   "display_name": "Python 3",
   "language": "python",
   "name": "python3"
  },
  "language_info": {
   "codemirror_mode": {
    "name": "ipython",
    "version": 3
   },
   "file_extension": ".py",
   "mimetype": "text/x-python",
   "name": "python",
   "nbconvert_exporter": "python",
   "pygments_lexer": "ipython3",
   "version": "3.8.8"
  }
 },
 "nbformat": 4,
 "nbformat_minor": 5
}