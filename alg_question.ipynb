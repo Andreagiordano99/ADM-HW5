{
  "cells": [
    {
      "cell_type": "code",
      "execution_count": null,
      "outputs": [],
      "source": [
        "import pickle\n",
        "import networkx as nx\n",
        "import pandas as pd\n",
        "import numpy as np\n",
        "from tqdm import tqdm\n",
        "from datetime import datetime\n",
        "import random\n",
        "import itertools\n",
        "from pprint import pprint"
      ],
      "metadata": {
        "pycharm": {
          "name": "#%%\n"
        },
        "id": "mBQfz_RDzPqB"
      }
    },
    {
      "cell_type": "code",
      "source": [
        "n, k = int(input(\"Insert a number of kids \")), int(input(\"Insert a number of pairs of fighting kids less than the kids \"))\n"
      ],
      "metadata": {
        "colab": {
          "base_uri": "https://localhost:8080/"
        },
        "id": "f1QrrOVFyGfF",
        "outputId": "67c0a116-373b-4ee7-e756-4b6edefeccdd"
      },
      "execution_count": null,
      "outputs": [
        {
          "name": "stdout",
          "output_type": "stream",
          "text": [
            "Insert a number of kids 10\n",
            "Insert a number of pairs of fighting kids less than the kids 5\n"
          ]
        }
      ]
    },
    {
      "cell_type": "code",
      "source": [
        "kids = set(range(1,n+1))\n",
        "comb = set(itertools.combinations(kids, 2))\n",
        "pairs = set(random.sample(comb, k))"
      ],
      "metadata": {
        "id": "cBicUKLKJQxk"
      },
      "execution_count": null,
      "outputs": []
    },
    {
      "cell_type": "code",
      "source": [
        "pairs1 = {(1,4),(4,5),(3,4),(5,1),(7,8),(8,9)}"
      ],
      "metadata": {
        "id": "1ufFP7SIQJ3o"
      },
      "execution_count": null,
      "outputs": []
    },
    {
      "cell_type": "code",
      "source": [
        "pairs"
      ],
      "metadata": {
        "id": "BRnHAXsvhia7",
        "outputId": "6e080193-bc1d-4316-b720-31fa218e9164",
        "colab": {
          "base_uri": "https://localhost:8080/"
        }
      },
      "execution_count": null,
      "outputs": [
        {
          "output_type": "execute_result",
          "data": {
            "text/plain": [
              "{(3, 4), (4, 6), (6, 7), (6, 10), (7, 9)}"
            ]
          },
          "metadata": {},
          "execution_count": 5
        }
      ]
    },
    {
      "cell_type": "code",
      "source": [
        "G1 = nx.Graph()\n",
        "G1.add_edges_from(pairs1)\n",
        "dict_g1 = nx.to_dict_of_dicts(G1)\n",
        "pprint(dict_g1)"
      ],
      "metadata": {
        "colab": {
          "base_uri": "https://localhost:8080/"
        },
        "id": "fGWuENa_JqXr",
        "outputId": "bdafda42-6259-4265-b92d-ced9a0635fe0"
      },
      "execution_count": null,
      "outputs": [
        {
          "output_type": "stream",
          "name": "stdout",
          "text": [
            "{1: {4: {}, 5: {}},\n",
            " 3: {4: {}},\n",
            " 4: {1: {}, 3: {}, 5: {}},\n",
            " 5: {1: {}, 4: {}},\n",
            " 7: {8: {}},\n",
            " 8: {7: {}, 9: {}},\n",
            " 9: {8: {}}}\n"
          ]
        }
      ]
    },
    {
      "cell_type": "code",
      "source": [
        "G = nx.Graph()\n",
        "G.add_edges_from(pairs)\n",
        "dict_g = nx.to_dict_of_dicts(G)\n",
        "pprint(dict_g)"
      ],
      "metadata": {
        "colab": {
          "base_uri": "https://localhost:8080/"
        },
        "id": "H77QQJnaUr2l",
        "outputId": "65bcca03-7c5c-4855-fec2-705476cf9740"
      },
      "execution_count": null,
      "outputs": [
        {
          "output_type": "stream",
          "name": "stdout",
          "text": [
            "{3: {4: {}},\n",
            " 4: {3: {}, 6: {}},\n",
            " 6: {4: {}, 7: {}, 10: {}},\n",
            " 7: {6: {}, 9: {}},\n",
            " 9: {7: {}},\n",
            " 10: {6: {}}}\n"
          ]
        }
      ]
    },
    {
      "cell_type": "code",
      "source": [
        "nx.draw(G, with_labels=True)"
      ],
      "metadata": {
        "colab": {
          "base_uri": "https://localhost:8080/",
          "height": 319
        },
        "id": "FYDNeHRtO-qt",
        "outputId": "d004909a-47b7-4174-c213-052ecee0e09d"
      },
      "execution_count": null,
      "outputs": [
        {
          "output_type": "display_data",
          "data": {
            "image/png": "[encoded data removed]",
            "text/plain": [
              "<Figure size 432x288 with 1 Axes>"
            ]
          },
          "metadata": {}
        }
      ]
    },
    {
      "cell_type": "code",
      "source": [
        "nx.draw(G1, with_labels=True)"
      ],
      "metadata": {
        "colab": {
          "base_uri": "https://localhost:8080/",
          "height": 319
        },
        "id": "ycOK9SzHpKoU",
        "outputId": "c5bd6299-ee58-4aa8-88ba-addc61cbe287"
      },
      "execution_count": null,
      "outputs": [
        {
          "output_type": "display_data",
          "data": {
            "image/png": "[encoded data removed]",
            "text/plain": [
              "<Figure size 432x288 with 1 Axes>"
            ]
          },
          "metadata": {}
        }
      ]
    },
    {
      "cell_type": "code",
      "source": [
        "def DFS(G, v, visited, init_node):\n",
        "    # mark node v as visited\n",
        "    visited[v] = True\n",
        "    # iter all adjacent vertex of v\n",
        "    for node in G.neighbors(v):\n",
        "        # if node not visited, recurse DFS on node\n",
        "        if visited[node] == False:\n",
        "            # it will return false if the node is a leaf\n",
        "            if DFS(G, node, visited, v):\n",
        "                return True\n",
        "        # if an adjacent vertex of node is already visited\n",
        "        # and also is not node's parent, it means that \n",
        "        # there is a cycle in the graph\n",
        "        elif node != init_node:\n",
        "            return True\n",
        "    return False\n"
      ],
      "metadata": {
        "id": "BH7df5R2CelU"
      },
      "execution_count": null,
      "outputs": []
    },
    {
      "cell_type": "code",
      "source": [
        ""
      ],
      "metadata": {
        "id": "A-OvFnVqeXD0"
      },
      "execution_count": null,
      "outputs": []
    },
    {
      "cell_type": "code",
      "source": [
        "visited = dict.fromkeys(list(G.nodes), False)\n",
        "res = 1\n",
        "nodes = list(G.nodes)\n",
        "for n in nodes:\n",
        "    if visited[n] == False:\n",
        "        if DFS(G, n, visited, -1) == True:\n",
        "            res = 'Cycle found! Assignment not possible'\n",
        "print(res)"
      ],
      "metadata": {
        "colab": {
          "base_uri": "https://localhost:8080/"
        },
        "id": "Or4yikvRK7La",
        "outputId": "fff69a50-4608-46b7-f030-5269bd3e4258"
      },
      "execution_count": null,
      "outputs": [
        {
          "output_type": "stream",
          "name": "stdout",
          "text": [
            "1\n"
          ]
        }
      ]
    },
    {
      "cell_type": "code",
      "source": [
        "visited1 = dict.fromkeys(list(G1.nodes), False)\n",
        "res1 = 1\n",
        "nodes1 = list(G1.nodes)\n",
        "for n in nodes1:\n",
        "    if visited1[n] == False:\n",
        "        if DFS(G1, n, visited1, -1) == True:\n",
        "            res1 = 'Cycle found! Assignment not possible'\n",
        "print(res1)"
      ],
      "metadata": {
        "colab": {
          "base_uri": "https://localhost:8080/"
        },
        "id": "U12Ycci7jslk",
        "outputId": "e44b3492-81c8-476d-9e88-ebe352e5a8a2"
      },
      "execution_count": null,
      "outputs": [
        {
          "output_type": "stream",
          "name": "stdout",
          "text": [
            "Cycle found! Assignment not possible\n"
          ]
        }
      ]
    }
  ],
  "metadata": {
    "kernelspec": {
      "display_name": "Python 3",
      "language": "python",
      "name": "python3"
    },
    "language_info": {
      "codemirror_mode": {
        "name": "ipython",
        "version": 2
      },
      "file_extension": ".py",
      "mimetype": "text/x-python",
      "name": "python",
      "nbconvert_exporter": "python",
      "pygments_lexer": "ipython2",
      "version": "2.7.6"
    },
    "colab": {
      "name": "main.ipynb",
      "provenance": [],
      "collapsed_sections": []
    }
  },
  "nbformat": 4,
  "nbformat_minor": 0
}