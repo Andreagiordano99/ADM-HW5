{
 "cells": [
  {
   "cell_type": "code",
   "execution_count": null,
   "id": "9b2ecc60",
   "metadata": {},
   "outputs": [],
   "source": [
    "def fun3(G, inter, order_node, start, end): \n",
    "    '''\n",
    "    We consider that the list of node that must be visit in order is chosen by the user.\n",
    "    \n",
    "    input:\n",
    "    G=graph\n",
    "    inter= interval of time for the subgraph\n",
    "    order_node= list of node that must be visit in order\n",
    "    start,end= first and last node to visit\n",
    "    \n",
    "    Return: List of shortest walk that goes from user p_j to p_n, and that visits in order the nodes in p.\n",
    "    '''\n",
    "    new_G=interval_time(G,inter)    \n",
    "    nodes_list = list(new_G.nodes)\n",
    "    dfg = nx.to_pandas_edgelist(new_G, nodelist=nodes_list)\n",
    "\n",
    "    path=[]\n",
    "    if start not in nodes_list:\n",
    "        return \"Oops!  That was no valid numbers.  Try again...\"\n",
    "    if end not in nodes_list:\n",
    "        return \"Oops!  That was no valid numbers.  Try again...\"\n",
    "    for j in range(len(order_node)):\n",
    "        if(order_node[j] not in nodes_list):\n",
    "            return \"Oops!  That was no valid numbers.  Try again...\"\n",
    "        \n",
    "            \n",
    "    for i in range(len(order_node)):\n",
    "        if i==0:\n",
    "            if dijkstra(dfg,start,order_node[i],new_G)=='No possible path':\n",
    "                return \"Oops!  That was no valid numbers.  Try again...\"\n",
    "            else:\n",
    "                path.append(dijkstra(dfg,start,order_node[i],new_G)[1])\n",
    "        elif i==(len(order_node)-1):\n",
    "            if dijkstra(dfg,order_node[i],end,new_G)=='No possible path':\n",
    "                return \"Oops!  That was no valid numbers.  Try again...\"\n",
    "            else:\n",
    "                path.append(dijkstra(dfg,order_node[i],end,new_G)[1])\n",
    "                return path\n",
    "        else:\n",
    "            if dijkstra(dfg,order_node[i],order_node[i+1],new_G)=='No possible path':\n",
    "                return \"Oops!  That was no valid numbers.  Try again...\"\n",
    "            else:\n",
    "                path.append(dijkstra(dfg,order_node[i],order_node[i+1],new_G)[1])"
   ]
  },
  {
   "cell_type": "code",
   "execution_count": null,
   "id": "ad6cbfb3",
   "metadata": {},
   "outputs": [],
   "source": [
    "def vis3(G, inter, order_node, start, end):\n",
    "\n",
    "        '''\n",
    "    input:\n",
    "    G=graph\n",
    "    inter= interval of time for the subgraph\n",
    "    order_node= list of node that must be visit in order\n",
    "    start,end= first and last node to visit\n",
    "    \n",
    "    Return: visualization of functionality 3\n",
    "    '''\n",
    "    \n",
    "    a=fun3(G, inter, order_node, start, end)\n",
    "    nod=[]\n",
    "    for i in range(len(a)):\n",
    "        for j in range(len(a[i])):\n",
    "            nod.append(a[i][j])\n",
    "\n",
    "    print(\"The shortest walk that goes from user\",a[0][0],\" to user\",a[-1][-1] ,\"is\", nod)\n",
    "    for i in range(len(a)):\n",
    "        print(\"In particular from \", a[i][0], \"to\", a[i][-1], \"is\", a[i])\n",
    "   \n",
    "    k = new_g.subgraph(nod)\n",
    "    pos = nx.spring_layout(k)\n",
    "\n",
    "    plt.figure()\n",
    "    nx.draw(k, pos=pos,with_labels = True, node_color=\"blue\")\n",
    "    plt.show()"
   ]
  },
  {
   "cell_type": "code",
   "execution_count": null,
   "id": "e0f5e73c",
   "metadata": {},
   "outputs": [],
   "source": [
    "vis3(G_total,[\"2015-08-01 \",\"2015-08-02\"],[2581174,928007],3501958,5011413)"
   ]
  }
 ],
 "metadata": {
  "kernelspec": {
   "display_name": "Python 3",
   "language": "python",
   "name": "python3"
  },
  "language_info": {
   "codemirror_mode": {
    "name": "ipython",
    "version": 3
   },
   "file_extension": ".py",
   "mimetype": "text/x-python",
   "name": "python",
   "nbconvert_exporter": "python",
   "pygments_lexer": "ipython3",
   "version": "3.8.8"
  }
 },
 "nbformat": 4,
 "nbformat_minor": 5
}
