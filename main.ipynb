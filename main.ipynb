{
 "cells": [
  {
   "cell_type": "code",
   "execution_count": 118,
   "outputs": [],
   "source": [
    "import pickle\n",
    "import matplotlib.pyplot as plt\n",
    "import networkx as nx\n",
    "import pandas as pd\n",
    "import numpy as np\n",
    "from pprint import pprint\n",
    "from tqdm import tqdm\n",
    "from functions import *\n",
    "from datetime import datetime\n",
    "import random\n",
    "import itertools\n",
    "from tabulate import tabulate\n",
    "from collections import Counter\n",
    "import math"
   ],
   "metadata": {
    "collapsed": false,
    "pycharm": {
     "name": "#%%\n"
    }
   }
  },
  {
   "cell_type": "markdown",
   "source": [
    "**N.B.:** everything contained in the paragraph *Data* was already executed, so there is no necessity to do it again. We just loaded the files needed to continue with the next exercises."
   ],
   "metadata": {
    "collapsed": false
   }
  },
  {
   "cell_type": "markdown",
   "source": [
    "# 1. Data"
   ],
   "metadata": {
    "collapsed": false
   }
  },
  {
   "cell_type": "code",
   "execution_count": null,
   "outputs": [],
   "source": [
    "df_a2q = pd.read_csv('data/sx-stackoverflow-a2q.txt', sep=\" \", header=None)\n",
    "df_c2a = pd.read_csv('data/sx-stackoverflow-c2a.txt', sep=\" \", header=None)\n",
    "df_c2q = pd.read_csv('data/sx-stackoverflow-c2q.txt', sep=\" \", header=None)"
   ],
   "metadata": {
    "collapsed": false,
    "pycharm": {
     "name": "#%%\n"
    }
   }
  },
  {
   "cell_type": "code",
   "execution_count": null,
   "outputs": [],
   "source": [
    "df_a2q.columns = ['u', 'v', 't_a2q']\n",
    "df_c2a.columns = ['u', 'v', 't_c2a']\n",
    "df_c2q.columns = ['u', 'v', 't_c2q']"
   ],
   "metadata": {
    "collapsed": false,
    "pycharm": {
     "name": "#%%\n"
    }
   }
  },
  {
   "cell_type": "markdown",
   "source": [
    "Interval of dates of the datasets"
   ],
   "metadata": {
    "collapsed": false
   }
  },
  {
   "cell_type": "code",
   "execution_count": null,
   "outputs": [],
   "source": [
    "min1, max1 = min(df_a2q.t_a2q), max(df_a2q.t_a2q)\n",
    "min2, max2 = min(df_c2a.t_c2a), max(df_c2a.t_c2a)\n",
    "min3, max3 = min(df_c2q.t_c2q), max(df_c2q.t_c2q)"
   ],
   "metadata": {
    "collapsed": false,
    "pycharm": {
     "name": "#%%\n"
    }
   }
  },
  {
   "cell_type": "code",
   "execution_count": null,
   "outputs": [],
   "source": [
    "print('from', date_parser(min1), 'to', date_parser(max1))\n",
    "print('from', date_parser(min2), 'to', date_parser(max2))\n",
    "print('from', date_parser(min3), 'to', date_parser(max3))"
   ],
   "metadata": {
    "collapsed": false,
    "pycharm": {
     "name": "#%%\n"
    }
   }
  },
  {
   "cell_type": "markdown",
   "source": [
    "from 2008-08-01 to 2016-03-06\n",
    "from 2008-08-02 to 2016-03-06\n",
    "from 2008-08-02 to 2016-03-06"
   ],
   "metadata": {
    "collapsed": false
   }
  },
  {
   "cell_type": "markdown",
   "source": [
    "We are going to pick dates from 2014-09-01 to 2016-03-06 to construct the graph."
   ],
   "metadata": {
    "collapsed": false
   }
  },
  {
   "cell_type": "code",
   "execution_count": null,
   "outputs": [],
   "source": [
    "df_a2q = df_a2q.drop(drop_rows_int(df_a2q))\n",
    "df_c2a = df_c2a.drop(drop_rows_int(df_c2a))\n",
    "df_c2q = df_c2q.drop(drop_rows_int(df_c2q))"
   ],
   "metadata": {
    "collapsed": false,
    "pycharm": {
     "name": "#%%\n"
    }
   }
  },
  {
   "cell_type": "markdown",
   "source": [
    "Saving the new dataframes into txt files, because in this way we can just upload them without \"cleaning\" the original datasets."
   ],
   "metadata": {
    "collapsed": false
   }
  },
  {
   "cell_type": "code",
   "execution_count": null,
   "outputs": [],
   "source": [
    "df_a2q.to_csv('data/df_a2q.txt', header=None, index=None, sep=' ', mode='w')\n",
    "df_c2a.to_csv('data/df_c2a.txt', header=None, index=None, sep=' ', mode='w')\n",
    "df_c2q.to_csv('data/df_c2q.txt', header=None, index=None, sep=' ', mode='w')"
   ],
   "metadata": {
    "collapsed": false,
    "pycharm": {
     "name": "#%%\n"
    }
   }
  },
  {
   "cell_type": "code",
   "execution_count": null,
   "outputs": [],
   "source": [
    "df_a2q = pd.read_csv('data/df_a2q.txt', sep=\" \", header=None)\n",
    "df_c2a = pd.read_csv('data/df_c2a.txt', sep=\" \", header=None)\n",
    "df_c2q = pd.read_csv('data/df_c2q.txt', sep=\" \", header=None)"
   ],
   "metadata": {
    "collapsed": false,
    "pycharm": {
     "name": "#%%\n"
    }
   }
  },
  {
   "cell_type": "markdown",
   "source": [
    "Now it is time to create the weighted graph, with the name of the dataset as keys"
   ],
   "metadata": {
    "collapsed": false
   }
  },
  {
   "cell_type": "code",
   "execution_count": null,
   "outputs": [],
   "source": [
    "G = nx.MultiDiGraph()\n",
    "create_graph(G, df_a2q, 'a2q')\n",
    "create_graph(G, df_c2a, 'c2a')\n",
    "create_graph(G, df_c2q, 'c2q')"
   ],
   "metadata": {
    "collapsed": false,
    "pycharm": {
     "name": "#%%\n"
    }
   }
  },
  {
   "cell_type": "markdown",
   "source": [
    "Saving the graph $G$ with self loops on a pickle file, to load everytime needed."
   ],
   "metadata": {
    "collapsed": false
   }
  },
  {
   "cell_type": "code",
   "execution_count": null,
   "outputs": [],
   "source": [
    "with open('data/graph_with_loops.pkl', 'wb') as f:\n",
    "    pickle.dump(G, f)"
   ],
   "metadata": {
    "collapsed": false,
    "pycharm": {
     "name": "#%%\n"
    }
   }
  },
  {
   "cell_type": "markdown",
   "source": [
    "Before we created the graph with self loops of a node, but it could be useful to have also the graph without the self loops, so now we are going to create this kind of graph, using exactly the same function `create_graph`, but changing the parameter `self_loops=False`. Then, we are going to save also this graph."
   ],
   "metadata": {
    "collapsed": false
   }
  },
  {
   "cell_type": "code",
   "execution_count": null,
   "outputs": [],
   "source": [
    "G_loops = nx.MultiDiGraph()\n",
    "create_graph(G_loops, df_a2q, 'a2q', self_loops=False)\n",
    "create_graph(G_loops, df_c2a, 'c2a', self_loops=False)\n",
    "create_graph(G_loops, df_c2q, 'c2q', self_loops=False)"
   ],
   "metadata": {
    "collapsed": false,
    "pycharm": {
     "name": "#%%\n"
    }
   }
  },
  {
   "cell_type": "code",
   "execution_count": null,
   "outputs": [],
   "source": [
    "with open('data/graph_without_loops.pkl', 'wb') as f:\n",
    "    pickle.dump(G_loops, f)"
   ],
   "metadata": {
    "collapsed": false,
    "pycharm": {
     "name": "#%%\n"
    }
   }
  },
  {
   "cell_type": "code",
   "execution_count": 2,
   "metadata": {
    "collapsed": true
   },
   "outputs": [],
   "source": [
    "# PICKLE\n",
    "# with open('data/graph_with_loops.pkl', 'rb') as f:\n",
    "#     G = pickle.load(f)\n",
    "\n",
    "with open('data/graph_without_loops.pkl', 'rb') as f:\n",
    "    G_loops = pickle.load(f)"
   ]
  },
  {
   "cell_type": "markdown",
   "source": [
    "# 2. Implementation of the backend"
   ],
   "metadata": {
    "collapsed": false
   }
  },
  {
   "cell_type": "markdown",
   "source": [
    "## Functionality 1 - Get the overall features of the graph"
   ],
   "metadata": {
    "collapsed": false
   }
  },
  {
   "cell_type": "code",
   "execution_count": 28,
   "outputs": [
    {
     "name": "stderr",
     "output_type": "stream",
     "text": [
      "100%|██████████| 10884271/10884271 [00:02<00:00, 4564373.92it/s]\n"
     ]
    }
   ],
   "source": [
    "directed, num_users, total_links, average_links, density, type = functionality_1(G_loops, 'c2a')"
   ],
   "metadata": {
    "collapsed": false,
    "pycharm": {
     "name": "#%%\n"
    }
   }
  },
  {
   "cell_type": "code",
   "execution_count": 30,
   "outputs": [
    {
     "name": "stdout",
     "output_type": "stream",
     "text": [
      "Is the graph directed? False \n",
      "Number of users 899217 \n",
      "Number of answers/comments 3065120 \n",
      "Average number of links per user 3.4086544182327514 \n",
      "Density degree of the graph 3.79069591536711e-06 \n",
      "Is the graph sparse or dense? Sparse\n"
     ]
    }
   ],
   "source": [
    "print('Is the graph directed?', directed,\n",
    "      '\\nNumber of users', num_users,\n",
    "      '\\nNumber of answers/comments', total_links,\n",
    "      '\\nAverage number of links per user', average_links,\n",
    "      '\\nDensity degree of the graph', density,\n",
    "      '\\nIs the graph sparse or dense?', type)"
   ],
   "metadata": {
    "collapsed": false,
    "pycharm": {
     "name": "#%%\n"
    }
   }
  },
  {
   "cell_type": "markdown",
   "source": [
    "### CREATE UNIQUE GRAPH FOR NEXT FUNCTIONALITIES"
   ],
   "metadata": {
    "collapsed": false,
    "pycharm": {
     "name": "#%% md\n"
    }
   }
  },
  {
   "cell_type": "markdown",
   "source": [
    "If you already have the final graph, just load it with pickle and do not run the cell below."
   ],
   "metadata": {
    "collapsed": false
   }
  },
  {
   "cell_type": "code",
   "execution_count": 26,
   "outputs": [],
   "source": [
    "# to be runned just once\n",
    "G_tot = create_final_graph(G_loops)"
   ],
   "metadata": {
    "collapsed": false,
    "pycharm": {
     "name": "#%%\n"
    }
   }
  },
  {
   "cell_type": "code",
   "execution_count": 2,
   "outputs": [],
   "source": [
    "# PICKLE\n",
    "with open('data/graph_total.pkl', 'rb') as f:\n",
    "    G_tot = pickle.load(f)"
   ],
   "metadata": {
    "collapsed": false,
    "pycharm": {
     "name": "#%%\n"
    }
   }
  },
  {
   "cell_type": "markdown",
   "source": [
    "For better understanding, it could be useful to visualize the graph as a dataframe, so we saved the final graph in a pandas dataframe using a networkx function."
   ],
   "metadata": {
    "collapsed": false
   }
  },
  {
   "cell_type": "code",
   "execution_count": 3,
   "outputs": [],
   "source": [
    "list_nodes = list(G_tot.nodes)"
   ],
   "metadata": {
    "collapsed": false,
    "pycharm": {
     "name": "#%%\n"
    }
   }
  },
  {
   "cell_type": "code",
   "execution_count": 4,
   "outputs": [],
   "source": [
    "df_graph = nx.to_pandas_edgelist(G_tot, nodelist=list_nodes)"
   ],
   "metadata": {
    "collapsed": false,
    "pycharm": {
     "name": "#%%\n"
    }
   }
  },
  {
   "cell_type": "code",
   "execution_count": 5,
   "outputs": [],
   "source": [
    "# to be executed just one time\n",
    "df_graph.to_csv('data/df_graph.csv', index=None)"
   ],
   "metadata": {
    "collapsed": false,
    "pycharm": {
     "name": "#%%\n"
    }
   }
  },
  {
   "cell_type": "code",
   "execution_count": 37,
   "outputs": [
    {
     "name": "stderr",
     "output_type": "stream",
     "text": [
      "100%|██████████| 10300590/10300590 [00:06<00:00, 1651849.79it/s]\n"
     ]
    }
   ],
   "source": [
    "# new_g = interval_time(G_new, ['2016-02-01','2016-02-05'])"
   ],
   "metadata": {
    "collapsed": false,
    "pycharm": {
     "name": "#%%\n"
    }
   }
  },
  {
   "cell_type": "markdown",
   "source": [
    "## Functionality 2 - Find the best users!"
   ],
   "metadata": {
    "collapsed": false
   }
  },
  {
   "cell_type": "markdown",
   "source": [
    "closeness centrality defined in networkx\n",
    "$$ C(u) = \\frac{n-1}{\\sum_{v=1}^{n-1} d(v, u)} $$\n",
    "where $n$ is the number of nodes that can reach $u$, meaning that is the number of path from a node to $u$, and $d(v, u)$ is the shortest path distance between $v$ and $u$"
   ],
   "metadata": {
    "collapsed": false
   }
  },
  {
   "cell_type": "markdown",
   "source": [
    "## Functionality 3 - Shortest Ordered Route"
   ],
   "metadata": {
    "collapsed": false
   }
  },
  {
   "cell_type": "markdown",
   "source": [
    "## Functionality 4 - Disconnecting graphs"
   ],
   "metadata": {
    "collapsed": false
   }
  },
  {
   "cell_type": "markdown",
   "source": [
    "Since we implemented the weight of the edge as the length of the list containing the dates in common of $u$ to $v$, it would be counterproductive to use the minimum weight for the shortest path with Dijkstra, because it will take in consideration the nodes that are not really \"connected\"... So we thought about using a new weight for `functionality_4` as $new\\_weight = \\frac{1}{old\\_weight}$, so the higher the old weight is, the lower the new weight will be."
   ],
   "metadata": {
    "collapsed": false
   }
  },
  {
   "cell_type": "code",
   "execution_count": 163,
   "outputs": [
    {
     "name": "stderr",
     "output_type": "stream",
     "text": [
      "100%|██████████| 10300590/10300590 [00:05<00:00, 2007423.65it/s]\n",
      "100%|██████████| 10300590/10300590 [00:05<00:00, 2034402.76it/s]\n"
     ]
    },
    {
     "name": "stdout",
     "output_type": "stream",
     "text": [
      "Minimum links to cut: 2\n",
      "Total weight: 0.8300000000000001\n"
     ]
    }
   ],
   "source": [
    "print(functionality_4(G_tot, ['2016-02-01','2016-02-01'], ['2016-03-01','2016-03-01'], 2359320, 1245258)[0])"
   ],
   "metadata": {
    "collapsed": false,
    "pycharm": {
     "name": "#%%\n"
    }
   }
  },
  {
   "cell_type": "markdown",
   "source": [
    "# 3. Implementation of the frontend"
   ],
   "metadata": {
    "collapsed": false
   }
  },
  {
   "cell_type": "markdown",
   "source": [
    "## Visualization 1 - Visualize the overall features of the graph"
   ],
   "metadata": {
    "collapsed": false
   }
  },
  {
   "cell_type": "code",
   "execution_count": 18,
   "outputs": [
    {
     "name": "stdout",
     "output_type": "stream",
     "text": [
      "╒════════════╤═══════════════════╤══════════════════════════════╤════════════════════════════════════╤═══════════════════════════════╤════════════════════╕\n",
      "│ Directed   │   Number of users │   Number of answers/comments │   Average number of links per user │   Density degree of the graph │ Sparse or dense?   │\n",
      "╞════════════╪═══════════════════╪══════════════════════════════╪════════════════════════════════════╪═══════════════════════════════╪════════════════════╡\n",
      "│ False      │            899217 │                      3065120 │                            3.40865 │                    3.7907e-06 │ Sparse             │\n",
      "╘════════════╧═══════════════════╧══════════════════════════════╧════════════════════════════════════╧═══════════════════════════════╧════════════════════╛\n"
     ]
    },
    {
     "data": {
      "text/plain": "<Figure size 936x432 with 1 Axes>",
      "image/png": "[encoded data removed]"
     },
     "metadata": {
      "needs_background": "light"
     },
     "output_type": "display_data"
    },
    {
     "data": {
      "text/plain": "<Figure size 936x432 with 1 Axes>",
      "image/png": "[encoded data removed]"
     },
     "metadata": {
      "needs_background": "light"
     },
     "output_type": "display_data"
    }
   ],
   "source": [
    "visualization_1(G_loops, 'c2a')"
   ],
   "metadata": {
    "collapsed": false,
    "pycharm": {
     "name": "#%%\n"
    }
   }
  },
  {
   "cell_type": "markdown",
   "source": [
    "## Visualization 2 - Visualize the best user!"
   ],
   "metadata": {
    "collapsed": false
   }
  },
  {
   "cell_type": "code",
   "execution_count": null,
   "outputs": [],
   "source": [],
   "metadata": {
    "collapsed": false,
    "pycharm": {
     "name": "#%%\n"
    }
   }
  },
  {
   "cell_type": "markdown",
   "source": [
    "## Visualization 3 - Visualize the Shortest Ordered Route"
   ],
   "metadata": {
    "collapsed": false
   }
  },
  {
   "cell_type": "code",
   "execution_count": null,
   "outputs": [],
   "source": [],
   "metadata": {
    "collapsed": false,
    "pycharm": {
     "name": "#%%\n"
    }
   }
  },
  {
   "cell_type": "markdown",
   "source": [
    "## Visualization 4 - Visualize disconnecting graphs"
   ],
   "metadata": {
    "collapsed": false
   }
  },
  {
   "cell_type": "code",
   "execution_count": 188,
   "outputs": [
    {
     "name": "stderr",
     "output_type": "stream",
     "text": [
      "100%|██████████| 10300590/10300590 [00:05<00:00, 1985871.03it/s]\n",
      "100%|██████████| 10300590/10300590 [00:04<00:00, 2103472.68it/s]\n"
     ]
    },
    {
     "data": {
      "text/plain": "<Figure size 432x288 with 1 Axes>",
      "image/png": "[encoded data removed]"
     },
     "metadata": {},
     "output_type": "display_data"
    }
   ],
   "source": [
    "visualization_4(G_tot, ['2016-02-01','2016-02-01'], ['2016-03-01','2016-03-01'], 2359320, 1245258)"
   ],
   "metadata": {
    "collapsed": false,
    "pycharm": {
     "name": "#%%\n"
    }
   }
  },
  {
   "cell_type": "markdown",
   "source": [
    "# 4. Algorithmic question"
   ],
   "metadata": {
    "collapsed": false
   }
  },
  {
   "cell_type": "code",
   "execution_count": 6,
   "outputs": [],
   "source": [
    "kids = set(range(1,10+1))"
   ],
   "metadata": {
    "collapsed": false,
    "pycharm": {
     "name": "#%%\n"
    }
   }
  },
  {
   "cell_type": "code",
   "execution_count": 7,
   "outputs": [],
   "source": [
    "pairs_1 = {(1, 3), (3, 7), (4, 9), (7, 9), (8, 9)}\n",
    "pairs_2 = {(1, 4), (1, 6), (2, 5), (4, 7), (4, 10), (6, 9), (8, 9)}\n",
    "pairs_loop_1 = {(1,4),(4,5),(3,4),(5,1),(7,8)}\n",
    "pairs_loop_2 = {(1, 4), (1, 7), (3, 9), (4, 8), (6, 9), (7, 8), (7, 10)}"
   ],
   "metadata": {
    "collapsed": false,
    "pycharm": {
     "name": "#%%\n"
    }
   }
  },
  {
   "cell_type": "markdown",
   "source": [
    "So, since we want to know if it is possible to assign each pair of kids that fights often to different dormitories, we thought about using graphs, in particular the [DFS](https://en.wikipedia.org/wiki/Depth-first_search) algorithm, because if the graph built from the pairs as edges of the graph contains a loop, then it is not possible to assign properly the kids to different dormitories.\\\n",
    "Here is an example:\\\n",
    "We have\n",
    "```\n",
    "kids = [0, 1, 2, 3, 4]\n",
    "pairs = {(0, 1), (1, 2), (2, 4), (4, 1)}\n",
    "```\n",
    "and this is the resulting graph\\\n",
    "<img src=\"graph_example.png\" />\n",
    "\n",
    "If we start to assign each pair of kids to the dormitories, we will have:\\\n",
    "D1 = {0, 2, 3}\\\n",
    "D2 = {1, 4}\\\n",
    "but the pair $(4, 1)$ is impossible to assign to different dormitories, since we already have in $D1$ 0 and 2, who fight with 1, who is in D2, and since 2 fights with 4, we need to put 4 in $D2$, and then come troubles, because 1 and 4 cannot stay in the same dormitory!"
   ],
   "metadata": {
    "collapsed": false
   }
  },
  {
   "cell_type": "code",
   "execution_count": 72,
   "outputs": [],
   "source": [
    "def DFS(G, v, visited, init_node, temp=-1):\n",
    "    # mark node v as visited\n",
    "    visited[v] = True\n",
    "    if temp != -1:\n",
    "        # store the visited vertex to temp\n",
    "        temp.append(v)\n",
    "    # iter all adjacent vertex of v\n",
    "    for node in G.neighbors(v):\n",
    "        # if node not visited, recurse DFS on node\n",
    "        if not visited[node] and node:\n",
    "            if temp==-1:\n",
    "                # it will return false if the node is a leaf\n",
    "                if DFS(G, node, visited, v):\n",
    "                    return True\n",
    "            else:\n",
    "                # update the temp list\n",
    "                temp = DFS(G, node, visited, v, temp)\n",
    "\n",
    "        # if an adjacent vertex of node is already visited\n",
    "        # and also is not node's parent, it means that\n",
    "        # there is a cycle in the graph\n",
    "        elif temp==-1 and node != init_node:\n",
    "            return True\n",
    "    if temp==-1:\n",
    "        return False\n",
    "    else:\n",
    "        return temp"
   ],
   "metadata": {
    "collapsed": false,
    "pycharm": {
     "name": "#%%\n"
    }
   }
  },
  {
   "cell_type": "code",
   "execution_count": 77,
   "outputs": [],
   "source": [
    "def connComp(G):\n",
    "    visited = dict.fromkeys(list(G.nodes), False)\n",
    "    cc = []\n",
    "    for i in list(G.nodes):\n",
    "        if not visited[i]:\n",
    "            temp = []\n",
    "            # cc.append(DFS_cc(G, i, visited, temp))\n",
    "            cc.append(DFS(G, i, visited, -1, temp=temp))\n",
    "\n",
    "    return cc\n"
   ],
   "metadata": {
    "collapsed": false,
    "pycharm": {
     "name": "#%%\n"
    }
   }
  },
  {
   "cell_type": "code",
   "execution_count": 4,
   "outputs": [],
   "source": [
    "def fun_dorm(dict_g):\n",
    "    list_g = sorted(dict_g.items(), key= lambda x: len(x[1]), reverse=True)\n",
    "    items = list_g.pop(0)\n",
    "    D1 = {items[0]}\n",
    "    D2 = set(items[1])\n",
    "    queue = items[1]\n",
    "    while queue:\n",
    "        node = queue.pop(0)\n",
    "\n",
    "        for adj in dict_g[node]:\n",
    "            if adj not in D1 and adj not in D2:\n",
    "                queue.append(adj)\n",
    "                if node in D1:\n",
    "                    D2.add(adj)\n",
    "                elif node in D2:\n",
    "                    D1.add(adj)\n",
    "                elif node not in D1 and node not in D2:\n",
    "                    D1.add(node)\n",
    "                    D2.add(adj)\n",
    "\n",
    "    return D1, D2"
   ],
   "metadata": {
    "collapsed": false,
    "pycharm": {
     "name": "#%%\n"
    }
   }
  },
  {
   "cell_type": "code",
   "execution_count": 39,
   "outputs": [
    {
     "data": {
      "text/plain": "<Figure size 432x288 with 1 Axes>",
      "image/png": "[encoded data removed]"
     },
     "metadata": {},
     "output_type": "display_data"
    },
    {
     "name": "stdout",
     "output_type": "stream",
     "text": [
      "Number of kids: 10\n",
      "Number of pairs of kids: 5\n",
      "Pairs of kids: {(7, 9), (8, 9), (4, 9), (3, 7), (1, 3)}\n",
      "The first dormitory is: {2, 3, 5, 6, 9, 10} \n",
      "The second dormitory is: {8, 1, 4, 7}\n"
     ]
    },
    {
     "data": {
      "text/plain": "<Figure size 432x288 with 1 Axes>",
      "image/png": "[encoded data removed]"
     },
     "metadata": {},
     "output_type": "display_data"
    },
    {
     "name": "stdout",
     "output_type": "stream",
     "text": [
      "Number of kids: 10\n",
      "Number of pairs of kids: 7\n",
      "Pairs of kids: {(4, 10), (8, 9), (1, 6), (2, 5), (6, 9), (4, 7), (1, 4)}\n",
      "The first dormitory is: {2, 3, 4, 6, 8} \n",
      "The second dormitory is: {1, 5, 7, 9, 10}\n"
     ]
    },
    {
     "data": {
      "text/plain": "<Figure size 432x288 with 1 Axes>",
      "image/png": "[encoded data removed]"
     },
     "metadata": {},
     "output_type": "display_data"
    },
    {
     "name": "stdout",
     "output_type": "stream",
     "text": [
      "Number of kids: 10\n",
      "Number of pairs of kids: 5\n",
      "Pairs of kids: {(4, 5), (3, 4), (7, 8), (5, 1), (1, 4)}\n",
      "Cycle found! Assignment not possible\n"
     ]
    },
    {
     "data": {
      "text/plain": "<Figure size 432x288 with 1 Axes>",
      "image/png": "[encoded data removed]"
     },
     "metadata": {},
     "output_type": "display_data"
    },
    {
     "name": "stdout",
     "output_type": "stream",
     "text": [
      "Number of kids: 10\n",
      "Number of pairs of kids: 7\n",
      "Pairs of kids: {(1, 7), (3, 9), (4, 8), (7, 8), (7, 10), (6, 9), (1, 4)}\n",
      "Cycle found! Assignment not possible\n"
     ]
    }
   ],
   "source": [
    "list_pairs = [pairs_1, pairs_2, pairs_loop_1, pairs_loop_2]\n",
    "\n",
    "for pairs in list_pairs:\n",
    "\n",
    "    G = nx.Graph()\n",
    "    G.add_nodes_from(kids)\n",
    "    G.add_edges_from(pairs)\n",
    "    nx.draw(G, with_labels=True)\n",
    "    plt.show()\n",
    "    visited = dict.fromkeys(list(G.nodes), False)\n",
    "    res = 1\n",
    "    nodes = list(G.nodes)\n",
    "    print('Number of kids:', len(kids))\n",
    "    print('Number of pairs of kids:', len(pairs))\n",
    "    print('Pairs of kids:', pairs)\n",
    "    for nod in nodes:\n",
    "        if not visited[nod]:\n",
    "            if DFS(G, nod, visited, -1):\n",
    "                res = 0\n",
    "    if res == 0:\n",
    "        print('Cycle found! Assignment not possible')\n",
    "    else:\n",
    "        set1 = set()\n",
    "        set2 = set()\n",
    "        cc = connComp(G)\n",
    "        dict_g = nx.to_dict_of_lists(G)\n",
    "        for sg in cc:\n",
    "            if len(sg) > 1:\n",
    "                sub_g = dict((k, dict_g[k]) for k in sg)\n",
    "                D1, D2 = fun_dorm(sub_g)\n",
    "                set1.update(D1)\n",
    "                set2.update(D2)\n",
    "        for kid in kids:\n",
    "            if kid not in set1 and kid not in set2:\n",
    "                set1.add(kid)\n",
    "        print('The first dormitory is:', set1,\n",
    "              '\\nThe second dormitory is:', set2)"
   ],
   "metadata": {
    "collapsed": false,
    "pycharm": {
     "name": "#%%\n"
    }
   }
  }
 ],
 "metadata": {
  "kernelspec": {
   "display_name": "Python 3",
   "language": "python",
   "name": "python3"
  },
  "language_info": {
   "codemirror_mode": {
    "name": "ipython",
    "version": 2
   },
   "file_extension": ".py",
   "mimetype": "text/x-python",
   "name": "python",
   "nbconvert_exporter": "python",
   "pygments_lexer": "ipython2",
   "version": "2.7.6"
  }
 },
 "nbformat": 4,
 "nbformat_minor": 0
}