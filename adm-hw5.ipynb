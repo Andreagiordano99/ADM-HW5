{
 "cells": [
  {
   "cell_type": "code",
   "execution_count": 197,
   "metadata": {
    "collapsed": true
   },
   "outputs": [],
   "source": [
    "from datetime import datetime\n",
    "import pandas as pd\n",
    "import numpy as np\n",
    "import networkx as nx\n",
    "from tqdm import tqdm\n",
    "from pprint import pprint\n",
    "import pickle"
   ]
  },
  {
   "cell_type": "code",
   "execution_count": 61,
   "outputs": [],
   "source": [
    "def date_parser(date):\n",
    "    return datetime.fromtimestamp(date).strftime('%Y-%m-%d')"
   ],
   "metadata": {
    "collapsed": false,
    "pycharm": {
     "name": "#%%\n"
    }
   }
  },
  {
   "cell_type": "code",
   "execution_count": 137,
   "outputs": [],
   "source": [
    "df_a2q = pd.read_csv('data/sx-stackoverflow-a2q.txt', sep=\" \", header=None)\n",
    "df_c2a = pd.read_csv('data/sx-stackoverflow-c2a.txt', sep=\" \", header=None)\n",
    "df_c2q = pd.read_csv('data/sx-stackoverflow-c2q.txt', sep=\" \", header=None)"
   ],
   "metadata": {
    "collapsed": false,
    "pycharm": {
     "name": "#%%\n"
    }
   }
  },
  {
   "cell_type": "code",
   "execution_count": 138,
   "outputs": [],
   "source": [
    "df_a2q.columns = ['u', 'v', 't_a2q']\n",
    "df_c2a.columns = ['u', 'v', 't_c2a']\n",
    "df_c2q.columns = ['u', 'v', 't_c2q']"
   ],
   "metadata": {
    "collapsed": false,
    "pycharm": {
     "name": "#%%\n"
    }
   }
  },
  {
   "cell_type": "code",
   "execution_count": 4,
   "outputs": [
    {
     "name": "stdout",
     "output_type": "stream",
     "text": [
      "<class 'pandas.core.frame.DataFrame'>\n",
      "RangeIndex: 17823525 entries, 0 to 17823524\n",
      "Data columns (total 3 columns):\n",
      " #   Column  Dtype\n",
      "---  ------  -----\n",
      " 0   u       int64\n",
      " 1   v       int64\n",
      " 2   t_a2q   int64\n",
      "dtypes: int64(3)\n",
      "memory usage: 407.9 MB\n"
     ]
    }
   ],
   "source": [
    "df_a2q.info()"
   ],
   "metadata": {
    "collapsed": false,
    "pycharm": {
     "name": "#%%\n"
    }
   }
  },
  {
   "cell_type": "code",
   "execution_count": 5,
   "outputs": [
    {
     "name": "stdout",
     "output_type": "stream",
     "text": [
      "<class 'pandas.core.frame.DataFrame'>\n",
      "RangeIndex: 25405374 entries, 0 to 25405373\n",
      "Data columns (total 3 columns):\n",
      " #   Column  Dtype\n",
      "---  ------  -----\n",
      " 0   u       int64\n",
      " 1   v       int64\n",
      " 2   t_c2a   int64\n",
      "dtypes: int64(3)\n",
      "memory usage: 581.5 MB\n"
     ]
    }
   ],
   "source": [
    "df_c2a.info()"
   ],
   "metadata": {
    "collapsed": false,
    "pycharm": {
     "name": "#%%\n"
    }
   }
  },
  {
   "cell_type": "code",
   "execution_count": 6,
   "outputs": [
    {
     "name": "stdout",
     "output_type": "stream",
     "text": [
      "<class 'pandas.core.frame.DataFrame'>\n",
      "RangeIndex: 20268151 entries, 0 to 20268150\n",
      "Data columns (total 3 columns):\n",
      " #   Column  Dtype\n",
      "---  ------  -----\n",
      " 0   u       int64\n",
      " 1   v       int64\n",
      " 2   t_c2q   int64\n",
      "dtypes: int64(3)\n",
      "memory usage: 463.9 MB\n"
     ]
    }
   ],
   "source": [
    "df_c2q.info()"
   ],
   "metadata": {
    "collapsed": false,
    "pycharm": {
     "name": "#%%\n"
    }
   }
  },
  {
   "cell_type": "code",
   "execution_count": 63,
   "outputs": [],
   "source": [
    "min1, max1 = min(df_a2q.t_a2q), max(df_a2q.t_a2q)\n",
    "min2, max2 = min(df_c2a.t_c2a), max(df_c2a.t_c2a)\n",
    "min3, max3 = min(df_c2q.t_c2q), max(df_c2q.t_c2q)"
   ],
   "metadata": {
    "collapsed": false,
    "pycharm": {
     "name": "#%%\n"
    }
   }
  },
  {
   "cell_type": "code",
   "execution_count": 64,
   "outputs": [
    {
     "name": "stdout",
     "output_type": "stream",
     "text": [
      "from 2008-08-01 to 2016-03-06\n",
      "from 2008-08-02 to 2016-03-06\n",
      "from 2008-08-02 to 2016-03-06\n"
     ]
    }
   ],
   "source": [
    "print('from', date_parser(min1), 'to', date_parser(max1))\n",
    "print('from', date_parser(min2), 'to', date_parser(max2))\n",
    "print('from', date_parser(min3), 'to', date_parser(max3))"
   ],
   "metadata": {
    "collapsed": false,
    "pycharm": {
     "name": "#%%\n"
    }
   }
  },
  {
   "cell_type": "markdown",
   "source": [
    "We are going to pick dates from 2014-09-01 to 2016-03-06 to construnct the graph."
   ],
   "metadata": {
    "collapsed": false
   }
  },
  {
   "cell_type": "code",
   "execution_count": 139,
   "outputs": [],
   "source": [
    "def drop_rows_int(df):\n",
    "    start = '2014-09-01'\n",
    "    index = []\n",
    "    for i, row in tqdm(df.iterrows()):\n",
    "        if start > date_parser(row[2]):\n",
    "            index.append(i)\n",
    "\n",
    "    return index"
   ],
   "metadata": {
    "collapsed": false,
    "pycharm": {
     "name": "#%%\n"
    }
   }
  },
  {
   "cell_type": "code",
   "execution_count": 140,
   "outputs": [
    {
     "name": "stderr",
     "output_type": "stream",
     "text": [
      "17823525it [07:00, 42410.43it/s]\n",
      "25405374it [09:48, 43165.35it/s]\n",
      "20268151it [07:47, 43348.09it/s]\n"
     ]
    }
   ],
   "source": [
    "df_a2q = df_a2q.drop(drop_rows_int(df_a2q))\n",
    "df_c2a = df_c2a.drop(drop_rows_int(df_c2a))\n",
    "df_c2q = df_c2q.drop(drop_rows_int(df_c2q))"
   ],
   "metadata": {
    "collapsed": false,
    "pycharm": {
     "name": "#%%\n"
    }
   }
  },
  {
   "cell_type": "code",
   "execution_count": 180,
   "outputs": [
    {
     "name": "stdout",
     "output_type": "stream",
     "text": [
      "<class 'pandas.core.frame.DataFrame'>\n",
      "Int64Index: 4740682 entries, 13082828 to 17823524\n",
      "Data columns (total 3 columns):\n",
      " #   Column  Dtype\n",
      "---  ------  -----\n",
      " 0   u       int64\n",
      " 1   v       int64\n",
      " 2   t_a2q   int64\n",
      "dtypes: int64(3)\n",
      "memory usage: 144.7 MB\n",
      "<class 'pandas.core.frame.DataFrame'>\n",
      "Int64Index: 7095961 entries, 18309232 to 25405373\n",
      "Data columns (total 3 columns):\n",
      " #   Column  Dtype\n",
      "---  ------  -----\n",
      " 0   u       int64\n",
      " 1   v       int64\n",
      " 2   t_c2a   int64\n",
      "dtypes: int64(3)\n",
      "memory usage: 216.6 MB\n",
      "<class 'pandas.core.frame.DataFrame'>\n",
      "Int64Index: 7515487 entries, 12750641 to 20268150\n",
      "Data columns (total 3 columns):\n",
      " #   Column  Dtype\n",
      "---  ------  -----\n",
      " 0   u       int64\n",
      " 1   v       int64\n",
      " 2   t_c2q   int64\n",
      "dtypes: int64(3)\n",
      "memory usage: 229.4 MB\n"
     ]
    }
   ],
   "source": [
    "df_a2q.info()\n",
    "df_c2a.info()\n",
    "df_c2q.info()"
   ],
   "metadata": {
    "collapsed": false,
    "pycharm": {
     "name": "#%%\n"
    }
   }
  },
  {
   "cell_type": "markdown",
   "source": [
    "Saving the new dataframes into txt files, because in this way we can just upload them without \"cleaning\" the original datasets."
   ],
   "metadata": {
    "collapsed": false
   }
  },
  {
   "cell_type": "code",
   "execution_count": 145,
   "outputs": [],
   "source": [
    "df_a2q.to_csv('data/df_a2q.txt', header=None, index=None, sep=' ', mode='w')\n",
    "df_c2a.to_csv('data/df_c2a.txt', header=None, index=None, sep=' ', mode='w')\n",
    "df_c2q.to_csv('data/df_c2q.txt', header=None, index=None, sep=' ', mode='w')\n"
   ],
   "metadata": {
    "collapsed": false,
    "pycharm": {
     "name": "#%%\n"
    }
   }
  },
  {
   "cell_type": "markdown",
   "source": [
    "The intention is to create"
   ],
   "metadata": {
    "collapsed": false
   }
  },
  {
   "cell_type": "code",
   "execution_count": null,
   "outputs": [],
   "source": [
    "df_a2q = pd.read_csv('data/df_a2q.txt', sep=\" \", header=None)\n",
    "df_c2a = pd.read_csv('data/df_c2a.txt', sep=\" \", header=None)\n",
    "df_c2q = pd.read_csv('data/df_c2q.txt', sep=\" \", header=None)"
   ],
   "metadata": {
    "collapsed": false,
    "pycharm": {
     "name": "#%%\n"
    }
   }
  },
  {
   "cell_type": "code",
   "execution_count": 200,
   "outputs": [],
   "source": [
    "def create_graph(G, df, type, self_loops=True):\n",
    "    for _, row in tqdm(df.iterrows()):\n",
    "        if G.has_edge(row[0], row[1]) and ((row[0] != row[1]) or self_loops):\n",
    "            if G.has_edge(row[0], row[1], key=type):\n",
    "                G[row[0]][row[1]][type]['time_list'].append(date_parser(row[2]))\n",
    "                G[row[0]][row[1]][type]['weight'] += 1\n",
    "            else:\n",
    "                G.add_edge(row[0], row[1], key=type, weight=1, time_list=[date_parser(row[2])])\n",
    "        else:\n",
    "            G.add_edge(row[0], row[1], key=type, weight=1, time_list=[date_parser(row[2])])"
   ],
   "metadata": {
    "collapsed": false,
    "pycharm": {
     "name": "#%%\n"
    }
   }
  },
  {
   "cell_type": "code",
   "execution_count": 184,
   "outputs": [
    {
     "name": "stderr",
     "output_type": "stream",
     "text": [
      "4740682it [02:52, 27540.64it/s]\n"
     ]
    }
   ],
   "source": [
    "G = nx.MultiDiGraph()\n",
    "create_graph(G, df_a2q, 'a2q')"
   ],
   "metadata": {
    "collapsed": false,
    "pycharm": {
     "name": "#%%\n"
    }
   }
  },
  {
   "cell_type": "markdown",
   "source": [
    "This is to visualize how the graph is made of just for a single node only after it was added just one dataset"
   ],
   "metadata": {
    "collapsed": false
   }
  },
  {
   "cell_type": "code",
   "execution_count": 194,
   "outputs": [
    {
     "name": "stdout",
     "output_type": "stream",
     "text": [
      "3994425\n",
      "{39656: {'a2q': {'time_list': ['2015-01-06'], 'weight': 1}},\n",
      " 80002: {'a2q': {'time_list': ['2014-09-04'], 'weight': 1}},\n",
      " 124201: {'a2q': {'time_list': ['2014-09-03'], 'weight': 1}},\n",
      " 145173: {'a2q': {'time_list': ['2015-09-18'], 'weight': 1}},\n",
      " 181771: {'a2q': {'time_list': ['2014-12-16'], 'weight': 1}},\n",
      " 226927: {'a2q': {'time_list': ['2014-09-05'], 'weight': 1}},\n",
      " 249991: {'a2q': {'time_list': ['2014-09-03'], 'weight': 1}},\n",
      " 416631: {'a2q': {'time_list': ['2014-09-02'], 'weight': 1}},\n",
      " 427155: {'a2q': {'time_list': ['2014-11-08'], 'weight': 1}},\n",
      " 436493: {'a2q': {'time_list': ['2014-12-11'], 'weight': 1}},\n",
      " 589119: {'a2q': {'time_list': ['2015-09-17'], 'weight': 1}},\n",
      " 638443: {'a2q': {'time_list': ['2014-09-03'], 'weight': 1}},\n",
      " 659570: {'a2q': {'time_list': ['2014-09-03'], 'weight': 1}},\n",
      " 698971: {'a2q': {'time_list': ['2014-09-02'], 'weight': 1}},\n",
      " 950413: {'a2q': {'time_list': ['2014-09-01'], 'weight': 1}},\n",
      " 969241: {'a2q': {'time_list': ['2014-09-03'], 'weight': 1}},\n",
      " 1035008: {'a2q': {'time_list': ['2015-09-10'], 'weight': 1}},\n",
      " 1055717: {'a2q': {'time_list': ['2015-09-09'], 'weight': 1}},\n",
      " 1095564: {'a2q': {'time_list': ['2014-09-04'], 'weight': 1}},\n",
      " 1108948: {'a2q': {'time_list': ['2014-09-04'], 'weight': 1}},\n",
      " 1194243: {'a2q': {'time_list': ['2016-02-09'], 'weight': 1}},\n",
      " 1224069: {'a2q': {'time_list': ['2014-09-04'], 'weight': 1}},\n",
      " 1376691: {'a2q': {'time_list': ['2014-09-04'], 'weight': 1}},\n",
      " 1469457: {'a2q': {'time_list': ['2015-09-15'], 'weight': 1}},\n",
      " 1579440: {'a2q': {'time_list': ['2014-09-03'], 'weight': 1}},\n",
      " 1659605: {'a2q': {'time_list': ['2014-09-04'], 'weight': 1}},\n",
      " 1695963: {'a2q': {'time_list': ['2014-10-03'], 'weight': 1}},\n",
      " 1747088: {'a2q': {'time_list': ['2014-12-30'], 'weight': 1}},\n",
      " 1756246: {'a2q': {'time_list': ['2014-12-14'], 'weight': 1}},\n",
      " 1921872: {'a2q': {'time_list': ['2014-11-08'], 'weight': 1}},\n",
      " 2046687: {'a2q': {'time_list': ['2014-09-02'], 'weight': 1}},\n",
      " 2061604: {'a2q': {'time_list': ['2014-09-01'], 'weight': 1}},\n",
      " 2126514: {'a2q': {'time_list': ['2014-09-03'], 'weight': 1}},\n",
      " 2164904: {'a2q': {'time_list': ['2014-09-05'], 'weight': 1}},\n",
      " 2267382: {'a2q': {'time_list': ['2014-11-09'], 'weight': 1}},\n",
      " 2278503: {'a2q': {'time_list': ['2015-09-18'], 'weight': 1}},\n",
      " 2320476: {'a2q': {'time_list': ['2014-09-05'], 'weight': 1}},\n",
      " 2509344: {'a2q': {'time_list': ['2014-12-22'], 'weight': 1}},\n",
      " 2536897: {'a2q': {'time_list': ['2014-10-17'], 'weight': 1}},\n",
      " 2686399: {'a2q': {'time_list': ['2014-09-03'], 'weight': 1}},\n",
      " 2791908: {'a2q': {'time_list': ['2014-12-22'], 'weight': 1}},\n",
      " 2840042: {'a2q': {'time_list': ['2014-10-15'], 'weight': 1}},\n",
      " 2888019: {'a2q': {'time_list': ['2014-10-14'], 'weight': 1}},\n",
      " 2933941: {'a2q': {'time_list': ['2014-09-01'], 'weight': 1}},\n",
      " 2987066: {'a2q': {'time_list': ['2014-09-03'], 'weight': 1}},\n",
      " 3050080: {'a2q': {'time_list': ['2014-12-21'], 'weight': 1}},\n",
      " 3068177: {'a2q': {'time_list': ['2015-09-15'], 'weight': 1}},\n",
      " 3079834: {'a2q': {'time_list': ['2014-10-19'], 'weight': 1}},\n",
      " 3118435: {'a2q': {'time_list': ['2014-09-01'], 'weight': 1}},\n",
      " 3134135: {'a2q': {'time_list': ['2014-09-04'], 'weight': 1}},\n",
      " 3152130: {'a2q': {'time_list': ['2014-09-01'], 'weight': 1}},\n",
      " 3154397: {'a2q': {'time_list': ['2014-09-01'], 'weight': 1}},\n",
      " 3165438: {'a2q': {'time_list': ['2014-09-03'], 'weight': 1}},\n",
      " 3165698: {'a2q': {'time_list': ['2015-09-19'], 'weight': 1}},\n",
      " 3194005: {'a2q': {'time_list': ['2014-12-12'], 'weight': 1}},\n",
      " 3207831: {'a2q': {'time_list': ['2014-09-01'], 'weight': 1}},\n",
      " 3220603: {'a2q': {'time_list': ['2016-02-13'], 'weight': 1}},\n",
      " 3371198: {'a2q': {'time_list': ['2014-10-15'], 'weight': 1}},\n",
      " 3385181: {'a2q': {'time_list': ['2014-09-03'], 'weight': 1}},\n",
      " 3454459: {'a2q': {'time_list': ['2014-11-08'], 'weight': 1}},\n",
      " 3596611: {'a2q': {'time_list': ['2016-02-03'], 'weight': 1}},\n",
      " 3672971: {'a2q': {'time_list': ['2014-11-02'], 'weight': 1}},\n",
      " 3682369: {'a2q': {'time_list': ['2014-12-02', '2014-12-22'], 'weight': 2}},\n",
      " 3686271: {'a2q': {'time_list': ['2015-01-06'], 'weight': 1}},\n",
      " 3746092: {'a2q': {'time_list': ['2014-09-04'], 'weight': 1}},\n",
      " 3814490: {'a2q': {'time_list': ['2014-10-04'], 'weight': 1}},\n",
      " 3928244: {'a2q': {'time_list': ['2016-02-09'], 'weight': 1}},\n",
      " 3952846: {'a2q': {'time_list': ['2014-09-03'], 'weight': 1}},\n",
      " 3952909: {'a2q': {'time_list': ['2015-09-17'], 'weight': 1}},\n",
      " 3955093: {'a2q': {'time_list': ['2014-09-03'], 'weight': 1}},\n",
      " 3957746: {'a2q': {'time_list': ['2014-09-04'], 'weight': 1}},\n",
      " 3973615: {'a2q': {'time_list': ['2014-10-17'], 'weight': 1}},\n",
      " 3982672: {'a2q': {'time_list': ['2014-09-03'], 'weight': 1}},\n",
      " 3990577: {'a2q': {'time_list': ['2014-12-23'], 'weight': 1}},\n",
      " 3993190: {'a2q': {'time_list': ['2014-10-18'], 'weight': 1}},\n",
      " 3995064: {'a2q': {'time_list': ['2014-09-01'], 'weight': 1}},\n",
      " 3995223: {'a2q': {'time_list': ['2014-09-01'], 'weight': 1}},\n",
      " 4001607: {'a2q': {'time_list': ['2014-09-03'], 'weight': 1}},\n",
      " 4006622: {'a2q': {'time_list': ['2014-09-04'], 'weight': 1}},\n",
      " 4007947: {'a2q': {'time_list': ['2014-09-04'], 'weight': 1}},\n",
      " 4074424: {'a2q': {'time_list': ['2014-12-22'], 'weight': 1}},\n",
      " 4106471: {'a2q': {'time_list': ['2014-10-04'], 'weight': 1}},\n",
      " 4113424: {'a2q': {'time_list': ['2014-10-06'], 'weight': 1}},\n",
      " 4113567: {'a2q': {'time_list': ['2016-01-31'], 'weight': 1}},\n",
      " 4121314: {'a2q': {'time_list': ['2014-10-17'], 'weight': 1}},\n",
      " 4121440: {'a2q': {'time_list': ['2015-01-06'], 'weight': 1}},\n",
      " 4134123: {'a2q': {'time_list': ['2014-10-23'], 'weight': 1}},\n",
      " 4150460: {'a2q': {'time_list': ['2014-10-17'], 'weight': 1}},\n",
      " 4156411: {'a2q': {'time_list': ['2014-11-08'], 'weight': 1}},\n",
      " 4171690: {'a2q': {'time_list': ['2014-12-15'], 'weight': 1}},\n",
      " 4334464: {'a2q': {'time_list': ['2014-12-10'], 'weight': 1}},\n",
      " 4363119: {'a2q': {'time_list': ['2015-01-07'], 'weight': 1}},\n",
      " 4380700: {'a2q': {'time_list': ['2014-12-24'], 'weight': 1}},\n",
      " 4420962: {'a2q': {'time_list': ['2015-01-06'], 'weight': 1}},\n",
      " 4514378: {'a2q': {'time_list': ['2016-02-03'], 'weight': 1}},\n",
      " 4523440: {'a2q': {'time_list': ['2015-09-17'], 'weight': 1}},\n",
      " 4622108: {'a2q': {'time_list': ['2015-09-14'], 'weight': 1}},\n",
      " 4684040: {'a2q': {'time_list': ['2016-02-17'], 'weight': 1}},\n",
      " 4962177: {'a2q': {'time_list': ['2016-02-03'], 'weight': 1}},\n",
      " 5050086: {'a2q': {'time_list': ['2015-09-14'], 'weight': 1}},\n",
      " 5056522: {'a2q': {'time_list': ['2015-09-19'], 'weight': 1}},\n",
      " 5101379: {'a2q': {'time_list': ['2016-02-03'], 'weight': 1}},\n",
      " 5281335: {'a2q': {'time_list': ['2015-09-14'], 'weight': 1}},\n",
      " 5300337: {'a2q': {'time_list': ['2015-09-15'], 'weight': 1}},\n",
      " 5309761: {'a2q': {'time_list': ['2015-09-14'], 'weight': 1}},\n",
      " 5600745: {'a2q': {'time_list': ['2016-02-19'], 'weight': 1}}}\n"
     ]
    }
   ],
   "source": [
    "node_prova = list(nx.to_dict_of_dicts(G).keys())[27]\n",
    "print(node_prova)\n",
    "pprint(nx.to_dict_of_dicts(G)[node_prova])"
   ],
   "metadata": {
    "collapsed": false,
    "pycharm": {
     "name": "#%%\n"
    }
   }
  },
  {
   "cell_type": "code",
   "execution_count": 195,
   "outputs": [
    {
     "name": "stderr",
     "output_type": "stream",
     "text": [
      "7095961it [04:22, 27052.78it/s]\n",
      "7515487it [04:30, 27793.97it/s]\n"
     ]
    }
   ],
   "source": [
    "create_graph(G, df_c2a, 'c2a')\n",
    "create_graph(G, df_c2q, 'c2q')"
   ],
   "metadata": {
    "collapsed": false,
    "pycharm": {
     "name": "#%%\n"
    }
   }
  },
  {
   "cell_type": "markdown",
   "source": [
    "This are the outer connection of the node `node_prova` of before, after the addition of the other two dataset to the initial graph."
   ],
   "metadata": {
    "collapsed": false
   }
  },
  {
   "cell_type": "code",
   "execution_count": 196,
   "outputs": [
    {
     "name": "stdout",
     "output_type": "stream",
     "text": [
      "{1228: {'c2a': {'time_list': ['2014-10-10'], 'weight': 1}},\n",
      " 39656: {'a2q': {'time_list': ['2015-01-06'], 'weight': 1}},\n",
      " 80002: {'a2q': {'time_list': ['2014-09-04'], 'weight': 1}},\n",
      " 124201: {'a2q': {'time_list': ['2014-09-03'], 'weight': 1}},\n",
      " 145173: {'a2q': {'time_list': ['2015-09-18'], 'weight': 1},\n",
      "          'c2q': {'time_list': ['2015-09-18', '2015-09-18'], 'weight': 2}},\n",
      " 178757: {'c2q': {'time_list': ['2016-02-17'], 'weight': 1}},\n",
      " 181771: {'a2q': {'time_list': ['2014-12-16'], 'weight': 1}},\n",
      " 197913: {'c2a': {'time_list': ['2014-09-03'], 'weight': 1}},\n",
      " 209406: {'c2a': {'time_list': ['2014-11-04', '2014-11-04'], 'weight': 2}},\n",
      " 226927: {'a2q': {'time_list': ['2014-09-05'], 'weight': 1}},\n",
      " 249991: {'a2q': {'time_list': ['2014-09-03'], 'weight': 1}},\n",
      " 369072: {'c2a': {'time_list': ['2016-02-21', '2016-02-22'], 'weight': 2}},\n",
      " 416631: {'a2q': {'time_list': ['2014-09-02'], 'weight': 1}},\n",
      " 427155: {'a2q': {'time_list': ['2014-11-08'], 'weight': 1}},\n",
      " 436493: {'a2q': {'time_list': ['2014-12-11'], 'weight': 1}},\n",
      " 574062: {'c2q': {'time_list': ['2015-06-25'], 'weight': 1}},\n",
      " 589119: {'a2q': {'time_list': ['2015-09-17'], 'weight': 1}},\n",
      " 625678: {'c2q': {'time_list': ['2014-09-02'], 'weight': 1}},\n",
      " 638443: {'a2q': {'time_list': ['2014-09-03'], 'weight': 1}},\n",
      " 659570: {'a2q': {'time_list': ['2014-09-03'], 'weight': 1}},\n",
      " 698971: {'a2q': {'time_list': ['2014-09-02'], 'weight': 1}},\n",
      " 781754: {'c2a': {'time_list': ['2014-09-03'], 'weight': 1}},\n",
      " 782758: {'c2q': {'time_list': ['2015-09-10'], 'weight': 1}},\n",
      " 885318: {'c2a': {'time_list': ['2014-09-04'], 'weight': 1}},\n",
      " 923176: {'c2a': {'time_list': ['2014-09-04'], 'weight': 1}},\n",
      " 925327: {'c2q': {'time_list': ['2015-01-06', '2015-01-06'], 'weight': 2}},\n",
      " 946259: {'c2a': {'time_list': ['2014-12-20'], 'weight': 1}},\n",
      " 950413: {'a2q': {'time_list': ['2014-09-01'], 'weight': 1},\n",
      "          'c2q': {'time_list': ['2014-09-01'], 'weight': 1}},\n",
      " 969241: {'a2q': {'time_list': ['2014-09-03'], 'weight': 1}},\n",
      " 1035008: {'a2q': {'time_list': ['2015-09-10'], 'weight': 1}},\n",
      " 1055717: {'a2q': {'time_list': ['2015-09-09'], 'weight': 1}},\n",
      " 1084168: {'c2q': {'time_list': ['2015-09-27'], 'weight': 1}},\n",
      " 1095564: {'a2q': {'time_list': ['2014-09-04'], 'weight': 1}},\n",
      " 1108948: {'a2q': {'time_list': ['2014-09-04'], 'weight': 1}},\n",
      " 1119701: {'c2a': {'time_list': ['2015-09-15',\n",
      "                                 '2015-09-15',\n",
      "                                 '2015-09-15',\n",
      "                                 '2015-09-15',\n",
      "                                 '2015-09-15'],\n",
      "                   'weight': 5}},\n",
      " 1177013: {'c2q': {'time_list': ['2015-01-08'], 'weight': 1}},\n",
      " 1194243: {'a2q': {'time_list': ['2016-02-09'], 'weight': 1}},\n",
      " 1224069: {'a2q': {'time_list': ['2014-09-04'], 'weight': 1}},\n",
      " 1353573: {'c2q': {'time_list': ['2014-09-04'], 'weight': 1}},\n",
      " 1376691: {'a2q': {'time_list': ['2014-09-04'], 'weight': 1}},\n",
      " 1469457: {'a2q': {'time_list': ['2015-09-15'], 'weight': 1}},\n",
      " 1579440: {'a2q': {'time_list': ['2014-09-03'], 'weight': 1}},\n",
      " 1659605: {'a2q': {'time_list': ['2014-09-04'], 'weight': 1}},\n",
      " 1676134: {'c2q': {'time_list': ['2016-02-11'], 'weight': 1}},\n",
      " 1695963: {'a2q': {'time_list': ['2014-10-03'], 'weight': 1}},\n",
      " 1700513: {'c2a': {'time_list': ['2014-09-04', '2014-09-04', '2014-09-04'],\n",
      "                   'weight': 3}},\n",
      " 1747088: {'a2q': {'time_list': ['2014-12-30'], 'weight': 1}},\n",
      " 1756246: {'a2q': {'time_list': ['2014-12-14'], 'weight': 1},\n",
      "           'c2q': {'time_list': ['2014-12-14'], 'weight': 1}},\n",
      " 1810087: {'c2a': {'time_list': ['2015-09-17'], 'weight': 1}},\n",
      " 1884716: {'c2q': {'time_list': ['2016-02-18', '2016-02-18'], 'weight': 2}},\n",
      " 1921248: {'c2q': {'time_list': ['2014-10-15'], 'weight': 1}},\n",
      " 1921872: {'a2q': {'time_list': ['2014-11-08'], 'weight': 1}},\n",
      " 2000501: {'c2a': {'time_list': ['2015-09-15'], 'weight': 1}},\n",
      " 2046687: {'a2q': {'time_list': ['2014-09-02'], 'weight': 1}},\n",
      " 2061604: {'a2q': {'time_list': ['2014-09-01'], 'weight': 1}},\n",
      " 2126514: {'a2q': {'time_list': ['2014-09-03'], 'weight': 1}},\n",
      " 2153306: {'c2q': {'time_list': ['2014-12-25'], 'weight': 1}},\n",
      " 2164904: {'a2q': {'time_list': ['2014-09-05'], 'weight': 1}},\n",
      " 2174085: {'c2q': {'time_list': ['2014-09-04'], 'weight': 1}},\n",
      " 2267382: {'a2q': {'time_list': ['2014-11-09'], 'weight': 1}},\n",
      " 2278503: {'a2q': {'time_list': ['2015-09-18'], 'weight': 1}},\n",
      " 2320476: {'a2q': {'time_list': ['2014-09-05'], 'weight': 1}},\n",
      " 2341189: {'c2q': {'time_list': ['2014-10-09'], 'weight': 1}},\n",
      " 2417459: {'c2a': {'time_list': ['2015-02-22'], 'weight': 1}},\n",
      " 2509344: {'a2q': {'time_list': ['2014-12-22'], 'weight': 1}},\n",
      " 2536897: {'a2q': {'time_list': ['2014-10-17'], 'weight': 1}},\n",
      " 2587244: {'c2q': {'time_list': ['2014-09-03'], 'weight': 1}},\n",
      " 2591754: {'c2q': {'time_list': ['2015-09-18'], 'weight': 1}},\n",
      " 2686399: {'a2q': {'time_list': ['2014-09-03'], 'weight': 1}},\n",
      " 2736800: {'c2q': {'time_list': ['2014-09-03', '2014-09-03'], 'weight': 2}},\n",
      " 2791908: {'a2q': {'time_list': ['2014-12-22'], 'weight': 1}},\n",
      " 2797782: {'c2q': {'time_list': ['2014-09-04'], 'weight': 1}},\n",
      " 2840042: {'a2q': {'time_list': ['2014-10-15'], 'weight': 1}},\n",
      " 2888019: {'a2q': {'time_list': ['2014-10-14'], 'weight': 1}},\n",
      " 2933941: {'a2q': {'time_list': ['2014-09-01'], 'weight': 1},\n",
      "           'c2q': {'time_list': ['2014-09-01'], 'weight': 1}},\n",
      " 2987066: {'a2q': {'time_list': ['2014-09-03'], 'weight': 1}},\n",
      " 3050080: {'a2q': {'time_list': ['2014-12-21'], 'weight': 1}},\n",
      " 3068177: {'a2q': {'time_list': ['2015-09-15'], 'weight': 1}},\n",
      " 3079834: {'a2q': {'time_list': ['2014-10-19'], 'weight': 1}},\n",
      " 3118435: {'a2q': {'time_list': ['2014-09-01'], 'weight': 1}},\n",
      " 3134135: {'a2q': {'time_list': ['2014-09-04'], 'weight': 1},\n",
      "           'c2q': {'time_list': ['2014-09-04'], 'weight': 1}},\n",
      " 3152130: {'a2q': {'time_list': ['2014-09-01'], 'weight': 1}},\n",
      " 3154397: {'a2q': {'time_list': ['2014-09-01'], 'weight': 1}},\n",
      " 3165438: {'a2q': {'time_list': ['2014-09-03'], 'weight': 1}},\n",
      " 3165698: {'a2q': {'time_list': ['2015-09-19'], 'weight': 1}},\n",
      " 3174594: {'c2a': {'time_list': ['2014-09-05'], 'weight': 1}},\n",
      " 3194005: {'a2q': {'time_list': ['2014-12-12'], 'weight': 1},\n",
      "           'c2q': {'time_list': ['2014-12-11', '2014-12-12'], 'weight': 2}},\n",
      " 3207831: {'a2q': {'time_list': ['2014-09-01'], 'weight': 1}},\n",
      " 3220603: {'a2q': {'time_list': ['2016-02-13'], 'weight': 1}},\n",
      " 3234756: {'c2q': {'time_list': ['2015-01-07'], 'weight': 1}},\n",
      " 3238462: {'c2a': {'time_list': ['2015-01-17'], 'weight': 1}},\n",
      " 3271131: {'c2q': {'time_list': ['2014-09-03'], 'weight': 1}},\n",
      " 3326078: {'c2q': {'time_list': ['2014-09-05'], 'weight': 1}},\n",
      " 3371198: {'a2q': {'time_list': ['2014-10-15'], 'weight': 1}},\n",
      " 3385181: {'a2q': {'time_list': ['2014-09-03'], 'weight': 1}},\n",
      " 3454459: {'a2q': {'time_list': ['2014-11-08'], 'weight': 1}},\n",
      " 3577393: {'c2q': {'time_list': ['2016-02-28'], 'weight': 1}},\n",
      " 3596611: {'a2q': {'time_list': ['2016-02-03'], 'weight': 1}},\n",
      " 3672971: {'a2q': {'time_list': ['2014-11-02'], 'weight': 1}},\n",
      " 3682369: {'a2q': {'time_list': ['2014-12-02', '2014-12-22'], 'weight': 2},\n",
      "           'c2q': {'time_list': ['2014-12-07'], 'weight': 1}},\n",
      " 3686271: {'a2q': {'time_list': ['2015-01-06'], 'weight': 1}},\n",
      " 3746092: {'a2q': {'time_list': ['2014-09-04'], 'weight': 1}},\n",
      " 3777363: {'c2q': {'time_list': ['2015-09-14'], 'weight': 1}},\n",
      " 3814490: {'a2q': {'time_list': ['2014-10-04'], 'weight': 1}},\n",
      " 3928244: {'a2q': {'time_list': ['2016-02-09'], 'weight': 1}},\n",
      " 3952846: {'a2q': {'time_list': ['2014-09-03'], 'weight': 1}},\n",
      " 3952909: {'a2q': {'time_list': ['2015-09-17'], 'weight': 1},\n",
      "           'c2a': {'time_list': ['2015-09-17'], 'weight': 1}},\n",
      " 3955093: {'a2q': {'time_list': ['2014-09-03'], 'weight': 1}},\n",
      " 3957746: {'a2q': {'time_list': ['2014-09-04'], 'weight': 1}},\n",
      " 3973615: {'a2q': {'time_list': ['2014-10-17'], 'weight': 1}},\n",
      " 3975382: {'c2a': {'time_list': ['2014-09-05'], 'weight': 1}},\n",
      " 3982672: {'a2q': {'time_list': ['2014-09-03'], 'weight': 1}},\n",
      " 3990577: {'a2q': {'time_list': ['2014-12-23'], 'weight': 1}},\n",
      " 3993190: {'a2q': {'time_list': ['2014-10-18'], 'weight': 1}},\n",
      " 3994425: {'c2a': {'time_list': ['2014-09-01',\n",
      "                                 '2014-09-01',\n",
      "                                 '2014-09-01',\n",
      "                                 '2014-09-01',\n",
      "                                 '2014-09-01',\n",
      "                                 '2014-09-01',\n",
      "                                 '2014-09-01',\n",
      "                                 '2014-09-03',\n",
      "                                 '2014-09-03',\n",
      "                                 '2014-09-03',\n",
      "                                 '2014-09-03',\n",
      "                                 '2014-09-03',\n",
      "                                 '2014-09-03',\n",
      "                                 '2014-09-03',\n",
      "                                 '2014-09-03',\n",
      "                                 '2014-09-03',\n",
      "                                 '2014-09-03',\n",
      "                                 '2014-09-03',\n",
      "                                 '2014-09-03',\n",
      "                                 '2014-09-04',\n",
      "                                 '2014-09-04',\n",
      "                                 '2014-09-04',\n",
      "                                 '2014-09-04',\n",
      "                                 '2014-09-04',\n",
      "                                 '2014-09-05',\n",
      "                                 '2014-09-05',\n",
      "                                 '2014-10-03',\n",
      "                                 '2014-10-04',\n",
      "                                 '2014-10-16',\n",
      "                                 '2014-10-17',\n",
      "                                 '2014-10-18',\n",
      "                                 '2014-10-19',\n",
      "                                 '2014-10-19',\n",
      "                                 '2014-10-23',\n",
      "                                 '2014-11-02',\n",
      "                                 '2014-11-02',\n",
      "                                 '2014-11-08',\n",
      "                                 '2014-11-09',\n",
      "                                 '2014-12-03',\n",
      "                                 '2014-12-11',\n",
      "                                 '2014-12-14',\n",
      "                                 '2014-12-14',\n",
      "                                 '2014-12-22',\n",
      "                                 '2014-12-22',\n",
      "                                 '2014-12-22',\n",
      "                                 '2014-12-22',\n",
      "                                 '2015-01-06',\n",
      "                                 '2015-01-06',\n",
      "                                 '2015-01-06',\n",
      "                                 '2015-01-15',\n",
      "                                 '2015-09-10',\n",
      "                                 '2015-09-14',\n",
      "                                 '2015-09-15',\n",
      "                                 '2015-09-16',\n",
      "                                 '2015-09-17',\n",
      "                                 '2015-09-17',\n",
      "                                 '2015-09-18',\n",
      "                                 '2015-09-18',\n",
      "                                 '2015-09-19',\n",
      "                                 '2015-09-19',\n",
      "                                 '2016-02-03',\n",
      "                                 '2016-02-04',\n",
      "                                 '2016-02-04',\n",
      "                                 '2016-02-18'],\n",
      "                   'weight': 64}},\n",
      " 3995064: {'a2q': {'time_list': ['2014-09-01'], 'weight': 1}},\n",
      " 3995223: {'a2q': {'time_list': ['2014-09-01'], 'weight': 1}},\n",
      " 3996273: {'c2q': {'time_list': ['2014-09-04'], 'weight': 1}},\n",
      " 4001607: {'a2q': {'time_list': ['2014-09-03'], 'weight': 1}},\n",
      " 4006622: {'a2q': {'time_list': ['2014-09-04'], 'weight': 1}},\n",
      " 4007947: {'a2q': {'time_list': ['2014-09-04'], 'weight': 1}},\n",
      " 4057800: {'c2q': {'time_list': ['2014-10-15'], 'weight': 1}},\n",
      " 4074424: {'a2q': {'time_list': ['2014-12-22'], 'weight': 1}},\n",
      " 4106471: {'a2q': {'time_list': ['2014-10-04'], 'weight': 1}},\n",
      " 4113424: {'a2q': {'time_list': ['2014-10-06'], 'weight': 1}},\n",
      " 4113567: {'a2q': {'time_list': ['2016-01-31'], 'weight': 1}},\n",
      " 4121314: {'a2q': {'time_list': ['2014-10-17'], 'weight': 1}},\n",
      " 4121440: {'a2q': {'time_list': ['2015-01-06'], 'weight': 1},\n",
      "           'c2q': {'time_list': ['2015-01-06'], 'weight': 1}},\n",
      " 4134123: {'a2q': {'time_list': ['2014-10-23'], 'weight': 1}},\n",
      " 4150460: {'a2q': {'time_list': ['2014-10-17'], 'weight': 1}},\n",
      " 4156411: {'a2q': {'time_list': ['2014-11-08'], 'weight': 1}},\n",
      " 4171690: {'a2q': {'time_list': ['2014-12-15'], 'weight': 1}},\n",
      " 4278983: {'c2q': {'time_list': ['2014-11-21'], 'weight': 1}},\n",
      " 4307023: {'c2q': {'time_list': ['2014-11-30'], 'weight': 1}},\n",
      " 4334464: {'a2q': {'time_list': ['2014-12-10'], 'weight': 1}},\n",
      " 4358387: {'c2q': {'time_list': ['2015-01-05'], 'weight': 1}},\n",
      " 4363119: {'a2q': {'time_list': ['2015-01-07'], 'weight': 1}},\n",
      " 4380700: {'a2q': {'time_list': ['2014-12-24'], 'weight': 1}},\n",
      " 4420962: {'a2q': {'time_list': ['2015-01-06'], 'weight': 1}},\n",
      " 4514378: {'a2q': {'time_list': ['2016-02-03'], 'weight': 1}},\n",
      " 4523440: {'a2q': {'time_list': ['2015-09-17'], 'weight': 1}},\n",
      " 4622108: {'a2q': {'time_list': ['2015-09-14'], 'weight': 1}},\n",
      " 4684040: {'a2q': {'time_list': ['2016-02-17'], 'weight': 1}},\n",
      " 4725112: {'c2q': {'time_list': ['2016-02-17', '2016-02-17'], 'weight': 2}},\n",
      " 4776786: {'c2a': {'time_list': ['2015-09-09'], 'weight': 1}},\n",
      " 4849973: {'c2a': {'time_list': ['2015-09-14'], 'weight': 1}},\n",
      " 4962177: {'a2q': {'time_list': ['2016-02-03'], 'weight': 1}},\n",
      " 5050086: {'a2q': {'time_list': ['2015-09-14'], 'weight': 1}},\n",
      " 5056522: {'a2q': {'time_list': ['2015-09-19'], 'weight': 1}},\n",
      " 5101379: {'a2q': {'time_list': ['2016-02-03'], 'weight': 1}},\n",
      " 5180554: {'c2q': {'time_list': ['2015-09-17'], 'weight': 1}},\n",
      " 5233056: {'c2q': {'time_list': ['2016-02-18'], 'weight': 1}},\n",
      " 5236241: {'c2q': {'time_list': ['2015-09-19'], 'weight': 1}},\n",
      " 5281335: {'a2q': {'time_list': ['2015-09-14'], 'weight': 1}},\n",
      " 5300337: {'a2q': {'time_list': ['2015-09-15'], 'weight': 1}},\n",
      " 5309761: {'a2q': {'time_list': ['2015-09-14'], 'weight': 1},\n",
      "           'c2q': {'time_list': ['2015-09-14'], 'weight': 1}},\n",
      " 5331760: {'c2q': {'time_list': ['2015-09-14'], 'weight': 1}},\n",
      " 5333602: {'c2q': {'time_list': ['2015-09-15'], 'weight': 1}},\n",
      " 5334756: {'c2q': {'time_list': ['2015-09-15'], 'weight': 1}},\n",
      " 5534706: {'c2q': {'time_list': ['2016-02-18', '2016-02-18'], 'weight': 2}},\n",
      " 5600745: {'a2q': {'time_list': ['2016-02-19'], 'weight': 1}},\n",
      " 5876832: {'c2q': {'time_list': ['2016-02-03'], 'weight': 1}}}\n"
     ]
    }
   ],
   "source": [
    "pprint(nx.to_dict_of_dicts(G)[node_prova])"
   ],
   "metadata": {
    "collapsed": false,
    "pycharm": {
     "name": "#%%\n"
    }
   }
  },
  {
   "cell_type": "markdown",
   "source": [
    "Saving the graph $G$ with self loops on a pickle file, to load everytime needed."
   ],
   "metadata": {
    "collapsed": false
   }
  },
  {
   "cell_type": "code",
   "execution_count": 198,
   "outputs": [],
   "source": [
    "with open('data/graph_with_loops.pkl', 'wb') as f:\n",
    "    pickle.dump(G, f)"
   ],
   "metadata": {
    "collapsed": false,
    "pycharm": {
     "name": "#%%\n"
    }
   }
  },
  {
   "cell_type": "markdown",
   "source": [
    "Before we created the graph with self loops of a node, but it could be useful to have also the graph without the self loops, so now we are going to create this kind of graph, using exactly the same function `create_graph`, but changing the parameter `self_loops=False`. Then, we are going to save also this graph."
   ],
   "metadata": {
    "collapsed": false
   }
  },
  {
   "cell_type": "code",
   "execution_count": 201,
   "outputs": [
    {
     "name": "stderr",
     "output_type": "stream",
     "text": [
      "4740682it [02:56, 26834.45it/s]\n",
      "7095961it [04:16, 27642.53it/s]\n",
      "7515487it [04:34, 27331.83it/s]\n"
     ]
    }
   ],
   "source": [
    "G_loops = nx.MultiDiGraph()\n",
    "create_graph(G_loops, df_a2q, 'a2q', self_loops=False)\n",
    "create_graph(G_loops, df_c2a, 'c2a', self_loops=False)\n",
    "create_graph(G_loops, df_c2q, 'c2q', self_loops=False)"
   ],
   "metadata": {
    "collapsed": false,
    "pycharm": {
     "name": "#%%\n"
    }
   }
  },
  {
   "cell_type": "code",
   "execution_count": 203,
   "outputs": [],
   "source": [
    "with open('data/graph_without_loops.pkl', 'wb') as f:\n",
    "    pickle.dump(G_loops, f)"
   ],
   "metadata": {
    "collapsed": false,
    "pycharm": {
     "name": "#%%\n"
    }
   }
  },
  {
   "cell_type": "markdown",
   "source": [
    "## **HOW TO**"
   ],
   "metadata": {
    "collapsed": false
   }
  },
  {
   "cell_type": "markdown",
   "source": [
    "**read the graphs:**"
   ],
   "metadata": {
    "collapsed": false
   }
  },
  {
   "cell_type": "code",
   "execution_count": null,
   "outputs": [],
   "source": [
    "with open('data/graph_with_loops.pkl', 'rb') as f:\n",
    "    G = pickle.load(f)\n",
    "\n",
    "with open('data/graph_without_loops.pkl', 'rb') as f:\n",
    "    G_loops = pickle.load(f)"
   ],
   "metadata": {
    "collapsed": false,
    "pycharm": {
     "name": "#%%\n"
    }
   }
  }
 ],
 "metadata": {
  "kernelspec": {
   "display_name": "Python 3",
   "language": "python",
   "name": "python3"
  },
  "language_info": {
   "codemirror_mode": {
    "name": "ipython",
    "version": 2
   },
   "file_extension": ".py",
   "mimetype": "text/x-python",
   "name": "python",
   "nbconvert_exporter": "python",
   "pygments_lexer": "ipython2",
   "version": "2.7.6"
  }
 },
 "nbformat": 4,
 "nbformat_minor": 0
}