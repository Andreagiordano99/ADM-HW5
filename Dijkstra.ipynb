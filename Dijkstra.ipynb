{
 "cells": [
  {
   "cell_type": "code",
   "execution_count": null,
   "id": "b8bdeffc",
   "metadata": {},
   "outputs": [],
   "source": [
    "from datetime import datetime\n",
    "import pandas as pd\n",
    "import numpy as np\n",
    "import networkx as nx\n",
    "from tqdm import tqdm\n",
    "from pprint import pprint\n",
    "import pickle\n",
    "import heapq as heap\n",
    "import sys"
   ]
  },
  {
   "cell_type": "code",
   "execution_count": null,
   "id": "a45004f8",
   "metadata": {},
   "outputs": [],
   "source": [
    "with open('data/graph_with_loops.pkl', 'rb') as f:\n",
    "    G = pickle.load(f)\n",
    "\n",
    "with open('data/graph_without_loops.pkl', 'rb') as f:\n",
    "    G_loops = pickle.load(f)"
   ]
  },
  {
   "cell_type": "code",
   "execution_count": null,
   "id": "c4c5dadc",
   "metadata": {},
   "outputs": [],
   "source": [
    "with open('data/graph_simple.pkl', 'rb') as f:\n",
    "    G_simple = pickle.load(f)"
   ]
  },
  {
   "cell_type": "code",
   "execution_count": null,
   "id": "6d4f108b",
   "metadata": {},
   "outputs": [],
   "source": [
    "with open('data/graph_total.pkl', 'rb') as f:\n",
    "    G_total = pickle.load(f)"
   ]
  },
  {
   "cell_type": "markdown",
   "id": "463eeeca",
   "metadata": {},
   "source": [
    "## Functionality 2\n",
    "- **Betweenness**\n",
    "- **PageRank**\n",
    "- **ClosenessCentrality**\n",
    "- **DegreeCentrality** of a node v is defined as  $degree\\_centrality(v) = \\frac{degree(v)}{n-1} $ ,  where degree(v) is the number of neighbors of v."
   ]
  },
  {
   "cell_type": "code",
   "execution_count": null,
   "id": "deecc2cd",
   "metadata": {},
   "outputs": [],
   "source": [
    "def dijkstra(G, v):\n",
    "    '''\n",
    "    input:\n",
    "    G: graph\n",
    "    v: starting node\n",
    "    \n",
    "    output:\n",
    "    pred: dictionary of predecessors\n",
    "    distance: dictionary containing costs of the shortest paths between v and the key node\n",
    "    \n",
    "    '''\n",
    "    distance = {v:10e6 for v in G.nodes} \n",
    "    distance[v] = 0 # node has a distance 0 from itself\n",
    "    visited = set()\n",
    "    q = [] # queue\n",
    "    heap.heappush(q,(0,v)) # pushing distance and node of the starting node v into the queue\n",
    "    pred = {}\n",
    "    shortest_paths = {v:[] for v in G.nodes}\n",
    "    \n",
    "\n",
    "    while q:\n",
    "        _, n = heap.heappop(q) # removing current node from the list\n",
    "        visited.add(n)\n",
    "\n",
    "        for neighbor in nx.neighbors(G, n):\n",
    "            if neighbor in visited:\n",
    "                continue\n",
    "            new_cost = distance[n] + G[n][neighbor]['weight']\n",
    "            \n",
    "            if distance[neighbor] > new_cost:\n",
    "                pred[neighbor] = n\n",
    "                distance[neighbor] = new_cost\n",
    "                heap.heappush(q, (new_cost, neighbor))  \n",
    "                \n",
    "          \n",
    "    return pred, distance    "
   ]
  },
  {
   "cell_type": "code",
   "execution_count": 1,
   "id": "ff904d89",
   "metadata": {},
   "outputs": [],
   "source": [
    "def shortest_path(G, v, u):\n",
    "    '''\n",
    "    input:\n",
    "    G: graph\n",
    "    v: starting node\n",
    "    u: target node\n",
    "    \n",
    "    output: shortest path between v and u and its weight\n",
    "    \n",
    "    '''\n",
    "    pred = dijkstra(G, v)[0]\n",
    "    distance = dijkstra(G, v)[1]\n",
    "    path = []\n",
    "    node = u # initalizing\n",
    "    \n",
    "    while node != v:\n",
    "        path.append(node)\n",
    "        node = pred[node]\n",
    " \n",
    "    # Add the start node\n",
    "    path.append(v)\n",
    "    path.reverse()\n",
    "    \n",
    "    return path, distance[u]"
   ]
  },
  {
   "cell_type": "code",
   "execution_count": null,
   "id": "46b24205",
   "metadata": {},
   "outputs": [],
   "source": [
    "# try\n",
    "shortest_path(G_simple, 3776858, 3706016) # dovrebbe tornare una lista da 3 e il peso"
   ]
  },
  {
   "cell_type": "code",
   "execution_count": null,
   "id": "9bad1c8e",
   "metadata": {},
   "outputs": [],
   "source": [
    "# paragone con funzione di networkx\n",
    "nx.single_source_dijkstra(G_simple,3776858,3706016)"
   ]
  }
 ],
 "metadata": {
  "kernelspec": {
   "display_name": "Python 3",
   "language": "python",
   "name": "python3"
  },
  "language_info": {
   "codemirror_mode": {
    "name": "ipython",
    "version": 3
   },
   "file_extension": ".py",
   "mimetype": "text/x-python",
   "name": "python",
   "nbconvert_exporter": "python",
   "pygments_lexer": "ipython3",
   "version": "3.8.8"
  }
 },
 "nbformat": 4,
 "nbformat_minor": 5
}
